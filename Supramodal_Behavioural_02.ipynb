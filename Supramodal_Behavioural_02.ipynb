{
 "cells": [
  {
   "cell_type": "markdown",
   "metadata": {
    "hideCode": false,
    "hidePrompt": false
   },
   "source": [
    "# Behavioural data"
   ]
  },
  {
   "cell_type": "markdown",
   "metadata": {
    "hideCode": false,
    "hidePrompt": false
   },
   "source": [
    "All statistical analyses of the behavioural data were performed using R (v3.6.0, 2019-04-26) in RStudio (v1.2.1335, RStudio, Inc, Boston, MA). The significance threshold for all statistical comparisons was p < 0.05. "
   ]
  },
  {
   "cell_type": "code",
   "execution_count": 1,
   "metadata": {},
   "outputs": [
    {
     "data": {
      "text/plain": [
       "               _                           \n",
       "platform       x86_64-w64-mingw32          \n",
       "arch           x86_64                      \n",
       "os             mingw32                     \n",
       "system         x86_64, mingw32             \n",
       "status                                     \n",
       "major          3                           \n",
       "minor          6.0                         \n",
       "year           2019                        \n",
       "month          04                          \n",
       "day            26                          \n",
       "svn rev        76424                       \n",
       "language       R                           \n",
       "version.string R version 3.6.0 (2019-04-26)\n",
       "nickname       Planting of a Tree          "
      ]
     },
     "metadata": {},
     "output_type": "display_data"
    }
   ],
   "source": [
    "version"
   ]
  },
  {
   "cell_type": "code",
   "execution_count": null,
   "metadata": {
    "hideCode": false,
    "hidePrompt": false
   },
   "outputs": [],
   "source": [
    "# Dace Apšvalka @MRC CBU, 2019\n",
    "# ----------------------------------------------------------------------\n",
    "# LIBRARIES\n",
    "# ----------------------------------------------------------------------\n",
    "library(Hmisc, warn.conflicts = FALSE) \n",
    "library(plyr)      # for ddply (aggregating SST results)\n",
    "library(pastecs)   # for summary statistic\n",
    "library(ggplot2)   # for plotting results\n",
    "library(repr)      # for changing plot size (default too large in notebook)\n",
    "library(gridExtra) # for adding plots together\n",
    "library(grid)      # for plot grid title formatting\n",
    "library(aplpack)   # for bi-variate outlier, bgplot\n",
    "library(robust)    # for robust correlation\n",
    "\n",
    "# ----------------------------------------------------------------------\n",
    "# FUNCTIONS\n",
    "# ----------------------------------------------------------------------\n",
    "\n",
    "# 1. STOP-SIGNAL ANALYSIS\n",
    "# Based on: Verbruggen et al (2019). https://doi.org/10.7554/eLife.46323.001\n",
    "# ------------------------------------\n",
    "funcSignal <- function(data) {\n",
    "  # all trials with a Response (any)\n",
    "  data$resp <- ifelse(data$gRT == \"0\", 0, 1)\n",
    "  \n",
    "  # Stop-signal trials\n",
    "  # ----------------------------------------------------------------------\n",
    "  # All\n",
    "  signal <- subset(data, gkind == '1')\n",
    "  # probability of responding to the Stop-Signal\n",
    "  presp <-  mean(signal$resp)\n",
    "  # mean Stop-Signal Delay (of all Stop-Signal trials)\n",
    "  ssd <- mean(signal$gintVal)\n",
    "  # unsuccessful Stop RTs\n",
    "  signal.resp    <- subset(signal, resp == '1')\n",
    "  signal.resp.rt <- mean(signal.resp$gRT)\n",
    "  \n",
    "  # Go trials\n",
    "  # ----------------------------------------------------------------------\n",
    "  # All\n",
    "  nosignal <- subset(data, gkind == '0') \n",
    "  # With response\n",
    "  nosignal_resp <- subset(nosignal, resp == '1') \n",
    "  # probability of Go omossions\n",
    "  pmiss <- 1-mean(nosignal$resp)\n",
    "  # Correct Go\n",
    "  nosignal_resp$error <-\n",
    "    ifelse(nosignal_resp$gtheButton == nosignal_resp$gresp, 0, 1)\n",
    "  # Probability of error on responded Go trials\n",
    "  perror <- mean(nosignal_resp$error)\n",
    "  # for the missed responses, set RT to max RT of the subject\n",
    "  nosignal$gRT <-\n",
    "    ifelse(nosignal$gRT == 0, max(nosignal_resp$gRT), nosignal$gRT)\n",
    "  # RT for Go trials with a response\n",
    "  nosignal.resp.rt <- mean(nosignal_resp$gRT)\n",
    "  # RT for correct Go trials\n",
    "  nosignal.correctresp <- subset(nosignal_resp, error == '0')\n",
    "  nosignal.correctresp.rt <- mean(nosignal.correctresp$gRT)\n",
    "  \n",
    "  # SSRT\n",
    "  # ----------------------------------------------------------------------\n",
    "  # All Go trials are included when the nth RT is determined\n",
    "  ## determine nth RT\n",
    "  nthRT_all <- quantile(nosignal$gRT, probs = presp, type = 6)\n",
    "  ## SSRT(integration) = nthRT - ssd\n",
    "  SSRTall <- nthRT_all - ssd\n",
    "  \n",
    "  # Race Check\n",
    "  # ----------------------------------------------------------------------\n",
    "  race.check <- nosignal.resp.rt - signal.resp.rt\n",
    "  # Using correct Go only\n",
    "  race.checkCorrGo <- nosignal.correctresp.rt - signal.resp.rt\n",
    "  \n",
    "  # Output\n",
    "  # ----------------------------------------------------------------------\n",
    "  return(\n",
    "    data.frame(\n",
    "      total = nrow(data),\n",
    "      signal = sum(signal$gkind),\n",
    "      ssPerc = sum(signal$gkind)/nrow(data)*100,\n",
    "      presp,\n",
    "      pmiss,\n",
    "      perror,\n",
    "      ssd,\n",
    "      SSRT = SSRTall,\n",
    "      sRT = signal.resp.rt,\n",
    "      goRT = nosignal.resp.rt,\n",
    "      raceCheck = race.check,\n",
    "      raceCheckcorGo = race.checkCorrGo\n",
    "    )\n",
    "  )\n",
    "}\n",
    "\n",
    "# 2. PLOTTING MEANS, Group mean (with 95%CI) and subject values\n",
    "# ------------------------------------\n",
    "plotResults <- function(dataset, x, group, title, units, extraTxt) {\n",
    "  ggplot(dataset, aes(group, x)) +\n",
    "    geom_point(\n",
    "      colour = \"black\", alpha = .9, fill = 'grey',\n",
    "      size = 1, stroke = 0.1, shape = 21,\n",
    "      position = position_jitter(height = 0, width = 0.1)\n",
    "    ) +\n",
    "    stat_summary(\n",
    "      fun.data = mean_cl_boot,\n",
    "      geom = \"pointrange\",\n",
    "      fill = 'red', alpha = 0.8, color = \"black\",\n",
    "      size = 0.6, stroke = 0.3, shape = 21,\n",
    "      position = position_nudge(x = -0.2)\n",
    "    ) +\n",
    "    scale_x_discrete() +\n",
    "    labs(x = extraTxt, y = units) + ggtitle(title) +\n",
    "    theme_minimal() +\n",
    "    theme(text = element_text(size = 9), \n",
    "          plot.title = element_text(hjust = 0.5, size = 9, face=\"bold\"), \n",
    "          plot.background = element_rect(color = \"lightgrey\", size = 0.4, linetype = \"dotted\"), \n",
    "          panel.grid.major = element_blank(), panel.grid.minor = element_blank()\n",
    "    )\n",
    "}\n",
    "\n",
    "# 3. PLOTTING CORRELATIONS (with 95%CI)\n",
    "# ------------------------------------\n",
    "plotCorrelation <- function(dataset, x, y, xLabel, yLabel, resTXT, pointsize, txtsize) {\n",
    "  ggplot(dataset, aes(x, y)) +\n",
    "    geom_smooth(\n",
    "      method = lm, level = 0.95,\n",
    "      color = \"black\", fill = \"grey\", size = 0.2\n",
    "    ) +\n",
    "    geom_point(\n",
    "      colour = \"black\", alpha = .9, fill = 'grey',\n",
    "      size = pointsize, stroke = 0.2, shape = 21\n",
    "    ) +\n",
    "    labs(x = xLabel, y = yLabel) + ggtitle(resTXT) + \n",
    "    theme_minimal() + \n",
    "    theme(text = element_text(size = txtsize), \n",
    "          plot.title = element_text(hjust = 0.5, size = 9, face=\"bold\"), \n",
    "          plot.background = element_rect(colour = \"lightgrey\", size = 0.4, linetype = \"dotted\"),\n",
    "          panel.grid.major = element_blank(), panel.grid.minor = element_blank()\n",
    "    )\n",
    "}"
   ]
  },
  {
   "cell_type": "markdown",
   "metadata": {
    "hideCode": false,
    "hidePrompt": false
   },
   "source": [
    "Data are available online ... "
   ]
  },
  {
   "cell_type": "code",
   "execution_count": 3,
   "metadata": {
    "hideCode": false,
    "hidePrompt": false
   },
   "outputs": [],
   "source": [
    "# ----------------------------------------------------------------------\n",
    "# LOAD DATA\n",
    "# ----------------------------------------------------------------------\n",
    "\n",
    "# SST\n",
    "dataSST <- read.csv('https://raw.githubusercontent.com/dcdace/tmp/master/data/SSTraw.csv')\n",
    "# exclude Go only runs from the analysis\n",
    "dataSST <- subset(dataSST, cond == '2') \n",
    "\n",
    "# TNT\n",
    "dataTNT <- read.csv('https://raw.githubusercontent.com/dcdace/tmp/master/data/TNT.csv')\n",
    "# turn test values into percentages\n",
    "dataTNT[, 10:ncol(dataTNT)] <- dataTNT[, 10:ncol(dataTNT)] * 100"
   ]
  },
  {
   "cell_type": "markdown",
   "metadata": {
    "hideCode": false,
    "hidePrompt": false
   },
   "source": [
    "# SST data\n",
    "SST data were analaysed ... "
   ]
  },
  {
   "cell_type": "code",
   "execution_count": null,
   "metadata": {
    "hideCode": false,
    "hidePrompt": false
   },
   "outputs": [],
   "source": [
    "# ======================================================================\n",
    "# SST RESULTS\n",
    "# ======================================================================\n",
    "\n",
    "# By Subject aggregated\n",
    "# ----------------------------------------------------------------------\n",
    "dataSSTsubj <- ddply(dataSST, .(sNR), funcSignal)\n",
    "\n",
    "# Get descriptives\n",
    "# ----------------------------------------------------------------------\n",
    "dscrSST <- stat.desc(dataSSTsubj) \n",
    "\n",
    "# Plot results\n",
    "# ----------------------------------------------------------------------\n",
    "options(repr.plot.width = 8, repr.plot.height = 8) \n",
    "# 1. Probability of Go omissions (no response)\n",
    "p1 <- plotResults(dataSSTsubj, dataSSTsubj$pmiss, 1, \"p(miss|Go)\", \"p\", \n",
    "                   sprintf(\"M (SD) = %.2f (%.2f), Mdn = %.2f\", \n",
    "                           dscrSST[\"mean\",\"pmiss\"], dscrSST[\"std.dev\",\"pmiss\"], dscrSST[\"median\",\"pmiss\"]))\n",
    "# 2. Probability of choice errors on Go trials\n",
    "p2 <- plotResults(dataSSTsubj, dataSSTsubj$perror, 1, \"p(error|Go)\", \"p\",\n",
    "                   sprintf(\"M (SD) = %.2f (%.2f), Mdn = %.2f\", \n",
    "                           dscrSST[\"mean\",\"perror\"], dscrSST[\"std.dev\",\"perror\"], dscrSST[\"median\",\"perror\"]))\n",
    "# 3. Probability of responding on a Stop trial\n",
    "# recommended to refrain from estimating individual SSRTs when p (respond|signal) is lower than 0.25 or higher than 0.75\n",
    "p3 <- plotResults(dataSSTsubj, dataSSTsubj$presp, 1, \"p(respond|signal)\", \"p\",\n",
    "                    sprintf(\"M (SD) = %.2f (%.2f), Mdn = %.2f\\nmin = %.2f, max = %.2f\", \n",
    "                            dscrSST[\"mean\",\"presp\"], dscrSST[\"std.dev\",\"presp\"], dscrSST[\"median\",\"presp\"], \n",
    "                            dscrSST[\"min\",\"presp\"], dscrSST[\"max\",\"presp\"]))\n",
    "# 4. Average Stop-Signal Delay\n",
    "p4 <- plotResults(dataSSTsubj, dataSSTsubj$ssd, 1, \"SSD\", \"ms\",\n",
    "                    sprintf(\"M (SD) = %.2f (%.2f) ms, Mdn = %.2f\\nmin = %.2f, max = %.2f\", \n",
    "                            dscrSST[\"mean\",\"ssd\"], dscrSST[\"std.dev\",\"ssd\"], dscrSST[\"median\",\"ssd\"], \n",
    "                            dscrSST[\"min\",\"ssd\"], dscrSST[\"max\",\"ssd\"]))\n",
    "# 5. Mean RT on Go trials\n",
    "p5 <- plotResults(dataSSTsubj, dataSSTsubj$goRT, 1, \"Go RT\", \"ms\",\n",
    "                   sprintf(\"M (SD) = %.2f (%.2f) ms\", \n",
    "                           dscrSST[\"mean\",\"goRT\"], dscrSST[\"std.dev\",\"goRT\"]))\n",
    "# 6. RT of unsuccessful Stop trials \n",
    "p6 <- plotResults(dataSSTsubj, dataSSTsubj$sRT, 1, \"Stop RT\", \"ms\",\n",
    "                   sprintf(\"M (SD) = %.2f (%.2f) ms\", \n",
    "                           dscrSST[\"mean\",\"sRT\"], dscrSST[\"std.dev\",\"sRT\"]))\n",
    "# 7. Race Check\n",
    "p7 <- plotResults(dataSSTsubj, dataSSTsubj$raceCheck, 1, \"Race check\", \"ms\",\n",
    "                   sprintf(\"M (SD) = %.2f (%.2f) ms\", \n",
    "                           dscrSST[\"mean\",\"raceCheck\"], dscrSST[\"std.dev\",\"raceCheck\"])) + \n",
    "  geom_hline(aes(yintercept = 0), size = 0.1)\n",
    "# 8. Stop-signal reaction time\n",
    "# integration method (with replacement of Go omissions) when\n",
    "p8 <- plotResults(dataSSTsubj, dataSSTsubj$SSRT, 1, \"SSRT\", \"ms\",\n",
    "                   sprintf(\"M (SD) = %.2f (%.2f) ms\", \n",
    "                           dscrSST[\"mean\",\"SSRT\"], dscrSST[\"std.dev\",\"SSRT\"]))\n",
    "# 9. Inter-subject variability of SSD\n",
    "dataSignal <- subset(dataSST, gkind == '1')\n",
    "p9 <- plotResults(dataSignal, dataSignal$gintVal, dataSignal$sNR, \"Inter-subject SSD\", \"ms\", \"\")\n",
    "\n",
    "## Put plots in a grid and display\n",
    "ly1 <- rbind(c(1,2,3),c(4,5,6), c(7,8, NA), c(9,9,9))\n",
    "grid.arrange(p1, p2, p3, p4, p5, p6, p7, p8, p9, layout_matrix = ly1)"
   ]
  },
  {
   "cell_type": "markdown",
   "metadata": {
    "hideCode": false,
    "hidePrompt": false
   },
   "source": [
    "# TNT data\n",
    "TNT data ... "
   ]
  },
  {
   "cell_type": "code",
   "execution_count": null,
   "metadata": {
    "hideCode": false,
    "hidePrompt": false
   },
   "outputs": [],
   "source": [
    "# ==================================================================\n",
    "# TNT RESULTS\n",
    "# ==================================================================\n",
    "\n",
    "# Get descriptives\n",
    "# ----------------------------------------------------------------------\n",
    "dscrTNT <- stat.desc(dataTNT) \n",
    "\n",
    "# Plot results\n",
    "# ----------------------------------------------------------------------\n",
    "options(repr.plot.width = 8, repr.plot.height = 8) \n",
    "# 1. Unconditionalised SP SIF\n",
    "p10 <- plotResults(dataTNT, dataTNT$spSIFuc, 1, \"SIF (SP)\", \"%\",\n",
    "                   sprintf(\"M (SD) = %.0f (%.0f) %%\", \n",
    "                           dscrTNT[\"mean\",\"spSIFuc\"], dscrTNT[\"std.dev\",\"spSIFuc\"]))  + \n",
    "  geom_hline(aes(yintercept = 0), size = 0.1)\n",
    "# 2. Unconditionalised IP SIF\n",
    "p11 <- plotResults(dataTNT, dataTNT$ipSIFuc, 1, \"SIF (IP)\", \"%\",\n",
    "                   sprintf(\"M (SD) = %.0f (%.0f) %%\", \n",
    "                           dscrTNT[\"mean\",\"ipSIFuc\"], dscrTNT[\"std.dev\",\"ipSIFuc\"]))  + \n",
    "  geom_hline(aes(yintercept = 0), size = 0.1)\n",
    "# 3. Unconditionalised SPIP SIF SP and IP\n",
    "p12 <- plotResults(dataTNT, dataTNT$spipSIFuc, 1, \"SIF (SP and IP)\", \"%\",\n",
    "                   sprintf(\"M (SD) = %.0f (%.0f) %%\", \n",
    "                           dscrTNT[\"mean\",\"spipSIFuc\"], dscrTNT[\"std.dev\",\"spipSIFuc\"]))  + \n",
    "  geom_hline(aes(yintercept = 0), size = 0.1)\n",
    "# 4. Conditionalised SP SIF\n",
    "p13 <- plotResults(dataTNT, dataTNT$spSIFc, 1, \"SIF (SP)\", \"%\",\n",
    "                   sprintf(\"M (SD) = %.0f (%.0f) %%\", \n",
    "                           dscrTNT[\"mean\",\"spSIFc\"], dscrTNT[\"std.dev\",\"spSIFc\"]))  + \n",
    "  geom_hline(aes(yintercept = 0), size = 0.1)\n",
    "# 5. Conditionalised IP SIF\n",
    "p14 <- plotResults(dataTNT, dataTNT$ipSIFc, 1, \"SIF (IP)\", \"%\",\n",
    "                   sprintf(\"M (SD) = %.0f (%.0f) %%\", \n",
    "                           dscrTNT[\"mean\",\"ipSIFc\"], dscrTNT[\"std.dev\",\"ipSIFc\"]))  + \n",
    "  geom_hline(aes(yintercept = 0), size = 0.1)\n",
    "# 6. Conditionalised SIF SP and IP\n",
    "p15 <- plotResults(dataTNT, dataTNT$spipSIFc, 1, \"SIF (SP and IP)\", \"%\",\n",
    "                   sprintf(\"M (SD) = %.0f (%.0f) %%\", \n",
    "                           dscrTNT[\"mean\",\"spipSIFc\"], dscrTNT[\"std.dev\",\"spipSIFc\"]))  + \n",
    "  geom_hline(aes(yintercept = 0), size = 0.1)\n",
    "# 7. Relationship between conditionalised and unconditionalised SIFs\n",
    "corr.SIF <- rcorr(dataTNT$spipSIFuc, dataTNT$spipSIFc)\n",
    "resTxt  <- sprintf(\"r = %.3f, p = %.4f\", corr.SIF$r[2], corr.SIF$P[2])\n",
    "p16     <- plotCorrelation(dataTNT, dataTNT$spipSIFuc, dataTNT$spipSIFc, \n",
    "                           \"uncond. SIF\", \"cond. SIF\", resTxt, 1, 10)\n",
    "# 8. % of learned (included in analysis) items\n",
    "p17 <- plotResults(dataTNT, dataTNT$criterion, 1, \"% of learned items\", \"%\",\n",
    "                   sprintf(\"M (SD) = %.0f (%.0f) %%\\nmin = %.0f, max = %.0f\", \n",
    "                           dscrTNT[\"mean\",\"criterion\"], dscrTNT[\"std.dev\",\"criterion\"], \n",
    "                           dscrTNT[\"min\",\"criterion\"], dscrTNT[\"max\",\"criterion\"]))\n",
    "\n",
    "## Put plots in a grid and display\n",
    "grid.arrange(arrangeGrob(p10, p11, p12, top = textGrob(\"Unconditionalised\", gp=gpar(fontface=\"bold\")), nrow = 1), \n",
    "             arrangeGrob(p13, p14, p15, top = textGrob(\"Conditionalised\", gp=gpar(fontface=\"bold\")), nrow = 1),\n",
    "             arrangeGrob(p16, p17, top=\"\", layout_matrix = rbind(c(1,1,1,NA,2,2))))"
   ]
  },
  {
   "cell_type": "markdown",
   "metadata": {
    "hideCode": false,
    "hidePrompt": false
   },
   "source": [
    "## SIF effect"
   ]
  },
  {
   "cell_type": "code",
   "execution_count": null,
   "metadata": {
    "hideCode": false,
    "hidePrompt": false
   },
   "outputs": [],
   "source": [
    "# SIF effect (conditionalised, SP and IP)\n",
    "# ----------------------------------------------------------------------\n",
    "# http://www.sthda.com/english/wiki/one-sample-t-test-in-r\n",
    "# Since the sample size is not large enough (less than 30, central limit theorem), we need to check whether \n",
    "# the data follow a normal distribution.\n",
    "# It's possible to use the Shapiro-Wilk normality test and to look at the normality plot.\n",
    "# \n",
    "# Shapiro-Wilk test:\n",
    "#   Null hypothesis: the data are normally distributed\n",
    "# Alternative hypothesis: the data are not normally distributed\n",
    "shapiro.test(dataTNT$spipSIFc)\n",
    "\n",
    "# SIF data are normally  distributed! Can do t.test. Otherwise would need to to wilcox.test\n",
    "t.SIFc <- t.test(dataTNT$spipSIFc, mu = 0, alternative = \"two.sided\")\n",
    "t.SIFc\n",
    "sprintf(\"SIF effect: t(%d) = %.2f, p = %.3f\", t.SIFc$parameter, t.SIFc$statistic, t.SIFc$p.value)"
   ]
  },
  {
   "cell_type": "markdown",
   "metadata": {
    "hideCode": false,
    "hidePrompt": false
   },
   "source": [
    "# Outliers"
   ]
  },
  {
   "cell_type": "code",
   "execution_count": null,
   "metadata": {
    "hideCode": false,
    "hidePrompt": false
   },
   "outputs": [],
   "source": [
    "# ==================================================================\n",
    "# SSRT and SIF OUTLIERS\n",
    "# ==================================================================\n",
    "SSRT <- dataSSTsubj$SSRT\n",
    "SIF  <- dataTNT$spipSIFc\n",
    "\n",
    "layout(matrix(c(1,2,3), ncol = 3, byrow = TRUE))\n",
    "options(repr.plot.width = 8, repr.plot.height = 3) # change plot size\n",
    "\n",
    "# Univariate, boxplot method\n",
    "# ------------------------------------\n",
    "bpSSRT <- boxplot(SSRT, main = 'SSRT', ylab = 'ms', ylim = rev(range(SSRT))) \n",
    "bpSIF  <- boxplot(SIF, main = 'SIF', ylab = '%')\n",
    "\n",
    "# Bi-variate, bogplot method\n",
    "# ------------------------------------\n",
    "# A bagplot is a bivariate generalization of the  boxplot. A bivariate boxplot. \n",
    "bpl  <- compute.bagplot(SSRT, SIF)\n",
    "oBiv <- which(data.frame(SSRT,SIF) == bpl$pxy.outlier)\n",
    "bagplot(SIF, SSRT, cex = 2, ylim = rev(range(SSRT)), ylab = 'SSRT (ms)', xlab = 'SIF (%)', main = 'bi-variate')\n",
    "\n",
    "# Report results\n",
    "# ------------------------------------\n",
    "sprintf(\"%d SSRT outliers; %d SIF outliers\", length(bpSSRT$out), length(bpSIF$out))\n",
    "sprintf(\"%d bi-variate outliers\", length(oBiv))\n",
    "print(data.frame(SSRT,SIF)[oBiv, ])"
   ]
  },
  {
   "cell_type": "markdown",
   "metadata": {
    "hideCode": false,
    "hidePrompt": false
   },
   "source": [
    "# SSRT and SIF correlation"
   ]
  },
  {
   "cell_type": "code",
   "execution_count": null,
   "metadata": {
    "hideCode": false,
    "hidePrompt": false
   },
   "outputs": [],
   "source": [
    "# ==================================================================\n",
    "# SSRT and SIF CORRELATION\n",
    "# ==================================================================\n",
    "sNR <- dataTNT$sNR\n",
    "res.Inhibition <- data.frame(sNR, SSRT,SIF)\n",
    "\n",
    "res.Inhibition <- subset(res.Inhibition, sNR != oBiv)\n",
    "\n",
    "corr.SSRT.SIF <- rcorr(res.Inhibition$SIF, res.Inhibition$SSRT)\n",
    "# The default \"auto\" selects from \"donostah\", \"mcd\", and \"pairwiseQC\" with the goal of producing a good estimate \n",
    "# in a reasonable amount of time\n",
    "corrRob.SSRT.SIF <- covRob(cbind(res.Inhibition$SIF, res.Inhibition$SSRT), corr = TRUE, estim = \"auto\")\n",
    "\n",
    "resTxt  <- sprintf(\"r = %.3f, p = %.3f\\nr(robust) = %.3f\", \n",
    "                   corr.SSRT.SIF$r[2], corr.SSRT.SIF$P[2],corrRob.SSRT.SIF$cov[2])\n",
    "options(repr.plot.width = 5, repr.plot.height = 4) # change plot size\n",
    "plotCorrelation(res.Inhibition, res.Inhibition$SIF, res.Inhibition$SSRT, \n",
    "                \"Inhibiting memories (SIF, %)\", \"Inhibiting actions (SSRT, ms)\", resTxt, 1.8, 11) + \n",
    "  scale_y_reverse() + geom_vline(aes(xintercept = 0), size = 0.1)"
   ]
  },
  {
   "cell_type": "code",
   "execution_count": null,
   "metadata": {
    "hideCode": false,
    "hidePrompt": false
   },
   "outputs": [],
   "source": [
    "# reset defult plot size\n",
    "options(repr.plot.width = 7, repr.plot.height = 7) "
   ]
  },
  {
   "cell_type": "code",
   "execution_count": null,
   "metadata": {},
   "outputs": [],
   "source": []
  }
 ],
 "metadata": {
  "hide_code_all_hidden": false,
  "kernelspec": {
   "display_name": "R",
   "language": "R",
   "name": "ir"
  },
  "language_info": {
   "codemirror_mode": "r",
   "file_extension": ".r",
   "mimetype": "text/x-r-source",
   "name": "R",
   "pygments_lexer": "r",
   "version": "3.6.0"
  }
 },
 "nbformat": 4,
 "nbformat_minor": 2
}
